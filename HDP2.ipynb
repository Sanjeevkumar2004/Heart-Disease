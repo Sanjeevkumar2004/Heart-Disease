{
  "nbformat": 4,
  "nbformat_minor": 0,
  "metadata": {
    "colab": {
      "provenance": [],
      "toc_visible": true,
      "include_colab_link": true
    },
    "kernelspec": {
      "name": "python3",
      "display_name": "Python 3"
    },
    "language_info": {
      "name": "python"
    }
  },
  "cells": [
    {
      "cell_type": "markdown",
      "metadata": {
        "id": "view-in-github",
        "colab_type": "text"
      },
      "source": [
        "<a href=\"https://colab.research.google.com/github/Sanjeevkumar2004/Heart-Disease/blob/main/HDP2.ipynb\" target=\"_parent\"><img src=\"https://colab.research.google.com/assets/colab-badge.svg\" alt=\"Open In Colab\"/></a>"
      ]
    },
    {
      "cell_type": "code",
      "execution_count": 19,
      "metadata": {
        "id": "PKePFSrCUOZV"
      },
      "outputs": [],
      "source": [
        "import pandas as pd\n",
        "import numpy as np\n",
        "import matplotlib.pyplot as plt\n",
        "from sklearn.model_selection import train_test_split\n",
        "from sklearn.preprocessing import StandardScaler, LabelEncoder\n",
        "from sklearn.metrics import confusion_matrix, accuracy_score\n",
        "from sklearn.metrics import roc_curve, auc\n",
        "import tensorflow as tf\n",
        "from tensorflow import keras\n",
        "from tensorflow.keras import layers"
      ]
    },
    {
      "cell_type": "code",
      "source": [
        "from google.colab import drive\n",
        "drive.mount('/content/drive')"
      ],
      "metadata": {
        "colab": {
          "base_uri": "https://localhost:8080/"
        },
        "id": "c5vd5r2PafV9",
        "outputId": "b61b8846-a62f-4b31-c8b6-0ee0c7d12dad"
      },
      "execution_count": 20,
      "outputs": [
        {
          "output_type": "stream",
          "name": "stdout",
          "text": [
            "Mounted at /content/drive\n"
          ]
        }
      ]
    },
    {
      "cell_type": "code",
      "source": [
        "data = pd.read_csv(r\"/heart_2022_no_nans.csv\")"
      ],
      "metadata": {
        "id": "LI2vIpWNURmk"
      },
      "execution_count": 21,
      "outputs": []
    },
    {
      "cell_type": "code",
      "source": [
        "data.columns"
      ],
      "metadata": {
        "colab": {
          "base_uri": "https://localhost:8080/"
        },
        "id": "tVTBenwJlg_C",
        "outputId": "325806ba-fc22-4372-9803-8226c092a789"
      },
      "execution_count": 22,
      "outputs": [
        {
          "output_type": "execute_result",
          "data": {
            "text/plain": [
              "Index(['State', 'Sex', 'GeneralHealth', 'PhysicalHealthDays',\n",
              "       'MentalHealthDays', 'LastCheckupTime', 'PhysicalActivities',\n",
              "       'SleepHours', 'RemovedTeeth', 'HadHeartAttack', 'HadAngina',\n",
              "       'HadStroke', 'HadAsthma', 'HadSkinCancer', 'HadCOPD',\n",
              "       'HadDepressiveDisorder', 'HadKidneyDisease', 'HadArthritis',\n",
              "       'HadDiabetes', 'DeafOrHardOfHearing', 'BlindOrVisionDifficulty',\n",
              "       'DifficultyConcentrating', 'DifficultyWalking',\n",
              "       'DifficultyDressingBathing', 'DifficultyErrands', 'SmokerStatus',\n",
              "       'ECigaretteUsage', 'ChestScan', 'RaceEthnicityCategory', 'AgeCategory',\n",
              "       'HeightInMeters', 'WeightInKilograms', 'BMI', 'AlcoholDrinkers',\n",
              "       'HIVTesting', 'FluVaxLast12', 'PneumoVaxEver', 'TetanusLast10Tdap',\n",
              "       'HighRiskLastYear', 'CovidPos'],\n",
              "      dtype='object')"
            ]
          },
          "metadata": {},
          "execution_count": 22
        }
      ]
    },
    {
      "cell_type": "code",
      "source": [
        "data.fillna(method='ffill', inplace=True)"
      ],
      "metadata": {
        "id": "dlOe0WrAUTYn",
        "colab": {
          "base_uri": "https://localhost:8080/"
        },
        "outputId": "70010f31-4e74-4ca0-a426-193d9d76730a"
      },
      "execution_count": 23,
      "outputs": [
        {
          "output_type": "stream",
          "name": "stderr",
          "text": [
            "/tmp/ipython-input-2866031220.py:1: FutureWarning: DataFrame.fillna with 'method' is deprecated and will raise in a future version. Use obj.ffill() or obj.bfill() instead.\n",
            "  data.fillna(method='ffill', inplace=True)\n"
          ]
        }
      ]
    },
    {
      "cell_type": "code",
      "source": [
        "label_encoder = LabelEncoder()\n",
        "categorical_columns = ['State', 'Sex', 'GeneralHealth', 'LastCheckupTime', 'RaceEthnicityCategory', 'AgeCategory', 'SmokerStatus']\n",
        "for col in categorical_columns:\n",
        "    data[col] = label_encoder.fit_transform(data[col])\n",
        "\n",
        "object_columns = data.select_dtypes(include='object').columns\n",
        "\n",
        "for col in object_columns:\n",
        "    data[col] = label_encoder.fit_transform(data[col])"
      ],
      "metadata": {
        "id": "W8XXRGBxUVka"
      },
      "execution_count": 24,
      "outputs": []
    },
    {
      "cell_type": "code",
      "source": [
        "X = data.drop(['HadHeartAttack'], axis=1)\n",
        "y = data['HadHeartAttack']"
      ],
      "metadata": {
        "id": "pd0dQlZlUp8A"
      },
      "execution_count": 25,
      "outputs": []
    },
    {
      "cell_type": "code",
      "source": [
        "X_train, X_test, y_train, y_test = train_test_split(X, y, test_size=0.2, random_state=42)"
      ],
      "metadata": {
        "id": "wK2Y9t9gUsGw"
      },
      "execution_count": 26,
      "outputs": []
    },
    {
      "cell_type": "code",
      "source": [
        "model = keras.Sequential([\n",
        "    layers.Dense(32, activation='relu', input_shape=(X_train.shape[1],)),\n",
        "    layers.Dropout(0.5),\n",
        "    layers.Dense(16, activation='relu'),\n",
        "    layers.Dropout(0.5),\n",
        "    layers.Dense(1, activation='sigmoid')\n",
        "])"
      ],
      "metadata": {
        "id": "paLH5HLQngah",
        "colab": {
          "base_uri": "https://localhost:8080/"
        },
        "outputId": "bbf72f74-80e6-417d-b0a0-bae91c53ba5b"
      },
      "execution_count": 27,
      "outputs": [
        {
          "output_type": "stream",
          "name": "stderr",
          "text": [
            "/usr/local/lib/python3.12/dist-packages/keras/src/layers/core/dense.py:93: UserWarning: Do not pass an `input_shape`/`input_dim` argument to a layer. When using Sequential models, prefer using an `Input(shape)` object as the first layer in the model instead.\n",
            "  super().__init__(activity_regularizer=activity_regularizer, **kwargs)\n"
          ]
        }
      ]
    },
    {
      "cell_type": "code",
      "source": [
        "model.compile(optimizer='adam', loss='binary_crossentropy', metrics=['accuracy'])"
      ],
      "metadata": {
        "id": "Hqi95OHvngM0"
      },
      "execution_count": 28,
      "outputs": []
    },
    {
      "cell_type": "code",
      "source": [
        "data.info()"
      ],
      "metadata": {
        "colab": {
          "base_uri": "https://localhost:8080/"
        },
        "id": "h6TUXNEYVVRP",
        "outputId": "72325f75-47a1-4097-eb35-5aa75183dd05"
      },
      "execution_count": 29,
      "outputs": [
        {
          "output_type": "stream",
          "name": "stdout",
          "text": [
            "<class 'pandas.core.frame.DataFrame'>\n",
            "RangeIndex: 94479 entries, 0 to 94478\n",
            "Data columns (total 40 columns):\n",
            " #   Column                     Non-Null Count  Dtype  \n",
            "---  ------                     --------------  -----  \n",
            " 0   State                      94479 non-null  int64  \n",
            " 1   Sex                        94479 non-null  int64  \n",
            " 2   GeneralHealth              94479 non-null  int64  \n",
            " 3   PhysicalHealthDays         94479 non-null  float64\n",
            " 4   MentalHealthDays           94479 non-null  float64\n",
            " 5   LastCheckupTime            94479 non-null  int64  \n",
            " 6   PhysicalActivities         94479 non-null  int64  \n",
            " 7   SleepHours                 94479 non-null  float64\n",
            " 8   RemovedTeeth               94479 non-null  int64  \n",
            " 9   HadHeartAttack             94479 non-null  int64  \n",
            " 10  HadAngina                  94479 non-null  int64  \n",
            " 11  HadStroke                  94479 non-null  int64  \n",
            " 12  HadAsthma                  94479 non-null  int64  \n",
            " 13  HadSkinCancer              94479 non-null  int64  \n",
            " 14  HadCOPD                    94479 non-null  int64  \n",
            " 15  HadDepressiveDisorder      94479 non-null  int64  \n",
            " 16  HadKidneyDisease           94479 non-null  int64  \n",
            " 17  HadArthritis               94479 non-null  int64  \n",
            " 18  HadDiabetes                94479 non-null  int64  \n",
            " 19  DeafOrHardOfHearing        94479 non-null  int64  \n",
            " 20  BlindOrVisionDifficulty    94479 non-null  int64  \n",
            " 21  DifficultyConcentrating    94479 non-null  int64  \n",
            " 22  DifficultyWalking          94479 non-null  int64  \n",
            " 23  DifficultyDressingBathing  94479 non-null  int64  \n",
            " 24  DifficultyErrands          94479 non-null  int64  \n",
            " 25  SmokerStatus               94479 non-null  int64  \n",
            " 26  ECigaretteUsage            94479 non-null  int64  \n",
            " 27  ChestScan                  94479 non-null  int64  \n",
            " 28  RaceEthnicityCategory      94479 non-null  int64  \n",
            " 29  AgeCategory                94479 non-null  int64  \n",
            " 30  HeightInMeters             94479 non-null  float64\n",
            " 31  WeightInKilograms          94479 non-null  float64\n",
            " 32  BMI                        94479 non-null  float64\n",
            " 33  AlcoholDrinkers            94479 non-null  int64  \n",
            " 34  HIVTesting                 94479 non-null  int64  \n",
            " 35  FluVaxLast12               94479 non-null  int64  \n",
            " 36  PneumoVaxEver              94479 non-null  int64  \n",
            " 37  TetanusLast10Tdap          94479 non-null  int64  \n",
            " 38  HighRiskLastYear           94479 non-null  int64  \n",
            " 39  CovidPos                   94479 non-null  int64  \n",
            "dtypes: float64(6), int64(34)\n",
            "memory usage: 28.8 MB\n"
          ]
        }
      ]
    },
    {
      "cell_type": "code",
      "source": [
        "#y_pred_prob = model.predict(X_test).ravel()\n",
        "#fpr, tpr, thresholds = roc_curve(y_test, y_pred_prob)\n",
        "#roc_auc = auc(fpr, tpr)\n",
        "for col in X.columns:\n",
        "    if X[col].dtype == 'object':\n",
        "        le = LabelEncoder()\n",
        "        X[col] = le.fit_transform(X[col])\n"
      ],
      "metadata": {
        "id": "JNv-e710VVs7"
      },
      "execution_count": 30,
      "outputs": []
    },
    {
      "cell_type": "code",
      "source": [
        "X_train, X_test, y_train, y_test = train_test_split(X, y, test_size=0.2, random_state=42)\n",
        "y_pred_prob = model.predict(X_test).ravel()\n"
      ],
      "metadata": {
        "colab": {
          "base_uri": "https://localhost:8080/"
        },
        "id": "P2JWt3tTb7-Q",
        "outputId": "beefb678-6612-4d94-faea-6bda81c5da87"
      },
      "execution_count": 31,
      "outputs": [
        {
          "output_type": "stream",
          "name": "stdout",
          "text": [
            "\u001b[1m591/591\u001b[0m \u001b[32m━━━━━━━━━━━━━━━━━━━━\u001b[0m\u001b[37m\u001b[0m \u001b[1m1s\u001b[0m 2ms/step\n"
          ]
        }
      ]
    },
    {
      "cell_type": "code",
      "source": [
        "fpr, tpr, thresholds = roc_curve(y_test, y_pred_prob)\n",
        "roc_auc = auc(fpr, tpr)"
      ],
      "metadata": {
        "id": "w3rR3L3Ic0_X"
      },
      "execution_count": 35,
      "outputs": []
    },
    {
      "cell_type": "code",
      "source": [
        "plt.figure(figsize=(8, 6))\n",
        "plt.plot(fpr, tpr, color='darkorange', lw=2, label='ROC curve (area = %0.2f)' % roc_auc)\n",
        "plt.plot([0, 1], [0, 1], color='navy', lw=2, linestyle='--')\n",
        "plt.xlim([0.0, 1.0])\n",
        "plt.ylim([0.0, 1.05])\n",
        "plt.xlabel('False Positive Rate')\n",
        "plt.ylabel('True Positive Rate')\n",
        "plt.title('Receiver Operating Characteristic (ROC)')\n",
        "plt.legend(loc=\"lower right\")\n",
        "plt.show()"
      ],
      "metadata": {
        "id": "x4ZlGmpUVXZL",
        "colab": {
          "base_uri": "https://localhost:8080/",
          "height": 564
        },
        "outputId": "70738be3-6d4a-4d81-82fb-0189c7e23656"
      },
      "execution_count": 36,
      "outputs": [
        {
          "output_type": "display_data",
          "data": {
            "text/plain": [
              "<Figure size 800x600 with 1 Axes>"
            ],
            "image/png": "[encoded data removed]"
          },
          "metadata": {}
        }
      ]
    },
    {
      "cell_type": "code",
      "source": [],
      "metadata": {
        "id": "AVJRMHwwVZ0j"
      },
      "execution_count": null,
      "outputs": []
    }
  ]
}